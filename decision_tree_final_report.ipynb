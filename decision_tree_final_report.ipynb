{
  "nbformat": 4,
  "nbformat_minor": 0,
  "metadata": {
    "colab": {
      "provenance": []
    },
    "kernelspec": {
      "name": "python3",
      "display_name": "Python 3"
    },
    "language_info": {
      "name": "python"
    }
  },
  "cells": [
    {
      "cell_type": "code",
      "source": [
        "!pip install tsfresh"
      ],
      "metadata": {
        "colab": {
          "base_uri": "https://localhost:8080/"
        },
        "id": "sAG8iJWH_XI_",
        "outputId": "b708b21c-ae9f-41b1-b3a9-91601143c64c"
      },
      "execution_count": 1,
      "outputs": [
        {
          "output_type": "stream",
          "name": "stdout",
          "text": [
            "Collecting tsfresh\n",
            "  Downloading tsfresh-0.20.2-py2.py3-none-any.whl (95 kB)\n",
            "\u001b[2K     \u001b[90m━━━━━━━━━━━━━━━━━━━━━━━━━━━━━━━━━━━━━━━━\u001b[0m \u001b[32m95.8/95.8 kB\u001b[0m \u001b[31m1.9 MB/s\u001b[0m eta \u001b[36m0:00:00\u001b[0m\n",
            "\u001b[?25hRequirement already satisfied: requests>=2.9.1 in /usr/local/lib/python3.10/dist-packages (from tsfresh) (2.31.0)\n",
            "Requirement already satisfied: numpy>=1.15.1 in /usr/local/lib/python3.10/dist-packages (from tsfresh) (1.25.2)\n",
            "Requirement already satisfied: pandas>=0.25.0 in /usr/local/lib/python3.10/dist-packages (from tsfresh) (2.0.3)\n",
            "Requirement already satisfied: scipy>=1.2.0 in /usr/local/lib/python3.10/dist-packages (from tsfresh) (1.11.4)\n",
            "Requirement already satisfied: statsmodels>=0.13 in /usr/local/lib/python3.10/dist-packages (from tsfresh) (0.14.2)\n",
            "Requirement already satisfied: patsy>=0.4.1 in /usr/local/lib/python3.10/dist-packages (from tsfresh) (0.5.6)\n",
            "Requirement already satisfied: scikit-learn>=0.22.0 in /usr/local/lib/python3.10/dist-packages (from tsfresh) (1.2.2)\n",
            "Requirement already satisfied: tqdm>=4.10.0 in /usr/local/lib/python3.10/dist-packages (from tsfresh) (4.66.4)\n",
            "Collecting stumpy>=1.7.2 (from tsfresh)\n",
            "  Downloading stumpy-1.12.0-py3-none-any.whl (169 kB)\n",
            "\u001b[2K     \u001b[90m━━━━━━━━━━━━━━━━━━━━━━━━━━━━━━━━━━━━━━━━\u001b[0m \u001b[32m169.1/169.1 kB\u001b[0m \u001b[31m6.7 MB/s\u001b[0m eta \u001b[36m0:00:00\u001b[0m\n",
            "\u001b[?25hRequirement already satisfied: cloudpickle in /usr/local/lib/python3.10/dist-packages (from tsfresh) (2.2.1)\n",
            "Requirement already satisfied: python-dateutil>=2.8.2 in /usr/local/lib/python3.10/dist-packages (from pandas>=0.25.0->tsfresh) (2.8.2)\n",
            "Requirement already satisfied: pytz>=2020.1 in /usr/local/lib/python3.10/dist-packages (from pandas>=0.25.0->tsfresh) (2023.4)\n",
            "Requirement already satisfied: tzdata>=2022.1 in /usr/local/lib/python3.10/dist-packages (from pandas>=0.25.0->tsfresh) (2024.1)\n",
            "Requirement already satisfied: six in /usr/local/lib/python3.10/dist-packages (from patsy>=0.4.1->tsfresh) (1.16.0)\n",
            "Requirement already satisfied: charset-normalizer<4,>=2 in /usr/local/lib/python3.10/dist-packages (from requests>=2.9.1->tsfresh) (3.3.2)\n",
            "Requirement already satisfied: idna<4,>=2.5 in /usr/local/lib/python3.10/dist-packages (from requests>=2.9.1->tsfresh) (3.7)\n",
            "Requirement already satisfied: urllib3<3,>=1.21.1 in /usr/local/lib/python3.10/dist-packages (from requests>=2.9.1->tsfresh) (2.0.7)\n",
            "Requirement already satisfied: certifi>=2017.4.17 in /usr/local/lib/python3.10/dist-packages (from requests>=2.9.1->tsfresh) (2024.2.2)\n",
            "Requirement already satisfied: joblib>=1.1.1 in /usr/local/lib/python3.10/dist-packages (from scikit-learn>=0.22.0->tsfresh) (1.4.2)\n",
            "Requirement already satisfied: threadpoolctl>=2.0.0 in /usr/local/lib/python3.10/dist-packages (from scikit-learn>=0.22.0->tsfresh) (3.5.0)\n",
            "Requirement already satisfied: packaging>=21.3 in /usr/local/lib/python3.10/dist-packages (from statsmodels>=0.13->tsfresh) (24.0)\n",
            "Requirement already satisfied: numba>=0.55.2 in /usr/local/lib/python3.10/dist-packages (from stumpy>=1.7.2->tsfresh) (0.58.1)\n",
            "Requirement already satisfied: llvmlite<0.42,>=0.41.0dev0 in /usr/local/lib/python3.10/dist-packages (from numba>=0.55.2->stumpy>=1.7.2->tsfresh) (0.41.1)\n",
            "Installing collected packages: stumpy, tsfresh\n",
            "Successfully installed stumpy-1.12.0 tsfresh-0.20.2\n"
          ]
        }
      ]
    },
    {
      "cell_type": "code",
      "execution_count": 2,
      "metadata": {
        "id": "TsuQjGIB4TNC"
      },
      "outputs": [],
      "source": [
        "import h5py\n",
        "import numpy as np\n",
        "import matplotlib.pyplot as plt\n",
        "import pandas as pd\n",
        "from tsfresh import extract_features\n",
        "from tsfresh.feature_extraction import MinimalFCParameters\n",
        "import sklearn\n",
        "import seaborn as sns\n",
        "from sklearn import preprocessing\n",
        "from sklearn.decomposition import PCA\n",
        "from sklearn.metrics import confusion_matrix\n",
        "from tsfresh.feature_extraction.feature_calculators import absolute_maximum"
      ]
    },
    {
      "cell_type": "code",
      "source": [
        "file_train = 'train.h5'\n",
        "file_test = 'test.h5'\n",
        "f_train = h5py.File(file_train, 'r+')\n",
        "f_test = h5py.File(file_test, 'r+')"
      ],
      "metadata": {
        "id": "FB0ST79b8HsU"
      },
      "execution_count": 4,
      "outputs": []
    },
    {
      "cell_type": "code",
      "source": [
        "def loadData(f1):\n",
        "  custom_fc_parameters = {\n",
        "        'absolute_maximum': None,\n",
        "        'mean': None,\n",
        "  }\n",
        "\n",
        "  size = 10000\n",
        "  increment = 1000\n",
        "  index = 0\n",
        "  numpy_matrix = np.zeros(shape = (len(f1['x']), int(size/increment)))\n",
        "  for j in np.arange(0,size,increment):\n",
        "      temp_x = []\n",
        "      for i in range(len(f1['x'])):\n",
        "          temp_x.append(f1['x'][i][0][j:j+increment])\n",
        "      df = pd.DataFrame()\n",
        "      for i, ts in enumerate(temp_x):\n",
        "          data = [[x, i] for x in ts]\n",
        "          df_data = pd.DataFrame(data, columns=['x', 'i'])\n",
        "          df = pd.concat([df, df_data], ignore_index=True)\n",
        "      df.columns = ['value', 'id']\n",
        "      tf = extract_features(df, column_id='id', column_value='value', default_fc_parameters=custom_fc_parameters)\n",
        "      numpy_matrix[:, index] =  tf['value__absolute_maximum'].to_numpy() - tf['value__mean'].to_numpy()\n",
        "      index += 1\n",
        "  X = numpy_matrix\n",
        "  return X\n",
        "\n"
      ],
      "metadata": {
        "id": "7bte8APZ_b8n"
      },
      "execution_count": 5,
      "outputs": []
    },
    {
      "cell_type": "code",
      "source": [
        "X = loadData(f_train)\n",
        "temp_y = []\n",
        "for i in range(len(f_train['y'])):\n",
        "    temp_y.append(f_train['y'][i])\n",
        "Y = np.array(temp_y)\n",
        "col = [f'val{i+1}' for i in range(X.shape[1])]\n",
        "X_df = pd.DataFrame(X, columns=col)"
      ],
      "metadata": {
        "colab": {
          "base_uri": "https://localhost:8080/"
        },
        "id": "q7hUS52Y_y68",
        "outputId": "c6c4d8a2-3177-476a-9488-b2171c2db9fa"
      },
      "execution_count": 6,
      "outputs": [
        {
          "output_type": "stream",
          "name": "stderr",
          "text": [
            "Feature Extraction: 100%|██████████| 204/204 [00:00<00:00, 4042.34it/s]\n",
            "Feature Extraction: 100%|██████████| 204/204 [00:00<00:00, 4644.40it/s]\n",
            "Feature Extraction: 100%|██████████| 204/204 [00:00<00:00, 3717.50it/s]\n",
            "Feature Extraction: 100%|██████████| 204/204 [00:00<00:00, 4104.11it/s]\n",
            "Feature Extraction: 100%|██████████| 204/204 [00:00<00:00, 3445.36it/s]\n",
            "Feature Extraction: 100%|██████████| 204/204 [00:00<00:00, 5712.17it/s]\n",
            "Feature Extraction: 100%|██████████| 204/204 [00:00<00:00, 5910.94it/s]\n",
            "Feature Extraction: 100%|██████████| 204/204 [00:00<00:00, 5531.31it/s]\n",
            "Feature Extraction: 100%|██████████| 204/204 [00:00<00:00, 6548.73it/s]\n",
            "Feature Extraction: 100%|██████████| 204/204 [00:00<00:00, 6107.77it/s]\n"
          ]
        }
      ]
    },
    {
      "cell_type": "code",
      "source": [
        "Y_df = pd.Series(Y, name='label')"
      ],
      "metadata": {
        "id": "-OpLpD4u0IYS"
      },
      "execution_count": 7,
      "outputs": []
    },
    {
      "cell_type": "code",
      "source": [
        "X_train, X_test, Y_train, Y_test = sklearn.model_selection.train_test_split(X_df, Y_df, test_size=0.2, random_state=42)"
      ],
      "metadata": {
        "id": "OrUWk65t31UJ"
      },
      "execution_count": 8,
      "outputs": []
    },
    {
      "cell_type": "code",
      "source": [
        "def Entropy(Y):\n",
        "  # write your code here\n",
        "  _, count_labels = np.unique(Y, return_counts=True)\n",
        "  prob = count_labels/count_labels.sum()\n",
        "  entropy = -np.sum(prob * np.log2(prob))\n",
        "  return entropy\n",
        "\n",
        "def Gini(Y):\n",
        "  # write your code here\n",
        "  _, count_labels = np.unique(Y, return_counts=True)\n",
        "  prob = count_labels / count_labels.sum()\n",
        "  gini = 1 - np.sum(prob ** 2)\n",
        "  return gini"
      ],
      "metadata": {
        "id": "QBuIsqcY4ElZ"
      },
      "execution_count": 9,
      "outputs": []
    },
    {
      "cell_type": "code",
      "source": [
        "class Nodo:\n",
        " #Define what your data members will be\n",
        "  def __init__(self, X, Y, disorder_func, index):\n",
        "    # Initialize data members\n",
        "    self.X = X\n",
        "    self.Y = Y\n",
        "    self.disorder_func = disorder_func\n",
        "    self.split_value = -1\n",
        "    self.Left = None\n",
        "    self.Right = None\n",
        "    self.index = index\n",
        "\n",
        "  def IsTerminal(self):\n",
        "    # return true if this node has the same labels in Y\n",
        "    return np.unique(self.Y).size == 1\n",
        "\n",
        "  def BestSplit(self):\n",
        "    min_gain = 10\n",
        "    selected_split_point = -1\n",
        "    id_split = -1\n",
        "\n",
        "    _, num_features = self.X.shape\n",
        "    for id in range(num_features):\n",
        "      id_name = self.X.columns[id]\n",
        "\n",
        "      X_sort_id = self.X.sort_values(by=id_name, ascending=True)\n",
        "      X_id = X_sort_id.iloc[:, id]\n",
        "      split_points = (X_id + X_id.shift(-1)) / 2\n",
        "      split_points = split_points.dropna()\n",
        "      split_points = split_points.round(2)\n",
        "      for split_point in split_points:\n",
        "        lower_bound_split = X_id[X_id < split_point]\n",
        "        higher_bound_split = X_id[X_id >= split_point]\n",
        "        lobs_size_prob = len(lower_bound_split)/len(X_sort_id)\n",
        "        hibs_size_prob = len(higher_bound_split)/len(X_sort_id)\n",
        "        gain = (lobs_size_prob * self.disorder_func(self.Y.loc[lower_bound_split.index]) +\n",
        "                hibs_size_prob * self.disorder_func(self.Y.loc[higher_bound_split.index]))\n",
        "        if(gain < min_gain):\n",
        "          min_gain = gain\n",
        "          selected_split_point = split_point\n",
        "          id_split = id\n",
        "    return min_gain, selected_split_point, id_split\n"
      ],
      "metadata": {
        "id": "_NMrueJ14MDD"
      },
      "execution_count": 10,
      "outputs": []
    },
    {
      "cell_type": "code",
      "source": [
        "class DT:\n",
        "  # Defina cuales será sus mimbros datos\n",
        "  def __init__(self, X, Y, disorder_func=Gini):\n",
        "    # Inicializar los mimbros datos\n",
        "    self.node_root = None\n",
        "    self.X = X\n",
        "    self.Y = Y\n",
        "    self.disorder_func = disorder_func\n",
        "\n",
        "  def create_DT(self, node):\n",
        "    # write your code here\n",
        "    if(node.IsTerminal()):\n",
        "      return\n",
        "    LNode, RNode = self.Find_Best_Split(node)\n",
        "    node.Left = LNode\n",
        "    node.Right = RNode\n",
        "    self.create_DT(LNode)\n",
        "    self.create_DT(RNode)\n",
        "\n",
        "  def Find_Best_Split(self, node):\n",
        "    # write your code here\n",
        "    _, selected_split, id = node.BestSplit()\n",
        "    node.index = id\n",
        "    node.split_value = selected_split\n",
        "    id_name = node.X.columns[id]\n",
        "    upper_data_X = node.X[node.X[id_name] >= selected_split]\n",
        "    lower_data_X = node.X[node.X[id_name] < selected_split]\n",
        "    upper_data_Y = node.Y.loc[upper_data_X.index]\n",
        "    lower_data_Y = node.Y.loc[lower_data_X.index]\n",
        "\n",
        "    LNode = Nodo(lower_data_X, lower_data_Y, self.disorder_func, 0)\n",
        "    RNode = Nodo(upper_data_X, upper_data_Y, self.disorder_func, 0)\n",
        "    return LNode, RNode\n",
        "\n",
        "  def fit(self):\n",
        "    self.node_root = Nodo(self.X, self.Y, self.disorder_func, 0)\n",
        "    self.create_DT(self.node_root)\n",
        "\n",
        "  def predict(self, X_test):\n",
        "    predictions = []\n",
        "    for _, sample in X_test.iterrows():\n",
        "      node = self.node_root\n",
        "      while not node.IsTerminal():\n",
        "        id_name = node.X.columns[node.index]\n",
        "        if(sample[id_name] < node.split_value):\n",
        "          node = node.Left\n",
        "        else:\n",
        "          node = node.Right\n",
        "      predictions.append(node.Y.values[0])\n",
        "    return predictions"
      ],
      "metadata": {
        "id": "hR-RKw7R4PQK"
      },
      "execution_count": 11,
      "outputs": []
    },
    {
      "cell_type": "code",
      "source": [
        "dt = DT(X_train, Y_train, Gini)\n",
        "dt.fit()"
      ],
      "metadata": {
        "id": "ds6WDJze4TOA"
      },
      "execution_count": 18,
      "outputs": []
    },
    {
      "cell_type": "code",
      "source": [
        "from sklearn.metrics import confusion_matrix, accuracy_score\n",
        "from sklearn import metrics\n",
        "import matplotlib.pyplot as plt\n",
        "\n",
        "y_pred = dt.predict(X_test)\n",
        "labels = Y_test.unique()\n",
        "conf_matrix = confusion_matrix(Y_test, y_pred)\n",
        "conf_matrix\n",
        "accuracy = accuracy_score(Y_test, y_pred)\n",
        "cm_display = metrics.ConfusionMatrixDisplay(confusion_matrix = conf_matrix, display_labels = labels)\n",
        "cm_display.plot()\n",
        "plt.show()\n",
        "print(f'accuracy: {accuracy}')"
      ],
      "metadata": {
        "colab": {
          "base_uri": "https://localhost:8080/",
          "height": 466
        },
        "id": "QcYA0Wa383d1",
        "outputId": "c4fed8df-ec15-4ee6-c457-fcd5d9dc9d89"
      },
      "execution_count": 19,
      "outputs": [
        {
          "output_type": "display_data",
          "data": {
            "text/plain": [
              "<Figure size 640x480 with 2 Axes>"
            ],
            "image/png": "[encoded data removed]"
          },
          "metadata": {}
        },
        {
          "output_type": "stream",
          "name": "stdout",
          "text": [
            "accuracy: 0.7073170731707317\n"
          ]
        }
      ]
    },
    {
      "cell_type": "code",
      "source": [
        "from sklearn.metrics import classification_report\n",
        "report = classification_report(Y_test, y_pred)\n",
        "print(f'Decision tree Gini')\n",
        "print(report)"
      ],
      "metadata": {
        "colab": {
          "base_uri": "https://localhost:8080/"
        },
        "id": "8aEFf5y-BrNK",
        "outputId": "7a26698e-fcb7-4282-9330-a4df5e6eb0fa"
      },
      "execution_count": 20,
      "outputs": [
        {
          "output_type": "stream",
          "name": "stdout",
          "text": [
            "Decision tree Gini\n",
            "              precision    recall  f1-score   support\n",
            "\n",
            "           0       0.80      0.80      0.80        30\n",
            "           1       0.45      0.45      0.45        11\n",
            "\n",
            "    accuracy                           0.71        41\n",
            "   macro avg       0.63      0.63      0.63        41\n",
            "weighted avg       0.71      0.71      0.71        41\n",
            "\n"
          ]
        }
      ]
    },
    {
      "cell_type": "code",
      "source": [
        "X = loadData(f_test)\n",
        "col = [f'val{i+1}' for i in range(X.shape[1])]\n",
        "X_df = pd.DataFrame(X, columns=col)"
      ],
      "metadata": {
        "colab": {
          "base_uri": "https://localhost:8080/"
        },
        "id": "PMsDLYOaH0OH",
        "outputId": "60af1e58-1925-4ecb-9183-9e3558709de1"
      },
      "execution_count": 21,
      "outputs": [
        {
          "output_type": "stream",
          "name": "stderr",
          "text": [
            "Feature Extraction: 100%|██████████| 205/205 [00:00<00:00, 4772.13it/s]\n",
            "Feature Extraction: 100%|██████████| 205/205 [00:00<00:00, 5593.31it/s]\n",
            "Feature Extraction: 100%|██████████| 205/205 [00:00<00:00, 5501.38it/s]\n",
            "Feature Extraction: 100%|██████████| 205/205 [00:00<00:00, 5624.75it/s]\n",
            "Feature Extraction: 100%|██████████| 205/205 [00:00<00:00, 6044.39it/s]\n",
            "Feature Extraction: 100%|██████████| 205/205 [00:00<00:00, 5160.72it/s]\n",
            "Feature Extraction: 100%|██████████| 205/205 [00:00<00:00, 5827.95it/s]\n",
            "Feature Extraction: 100%|██████████| 205/205 [00:00<00:00, 6029.85it/s]\n",
            "Feature Extraction: 100%|██████████| 205/205 [00:00<00:00, 4381.67it/s]\n",
            "Feature Extraction: 100%|██████████| 205/205 [00:00<00:00, 4235.88it/s]\n"
          ]
        }
      ]
    },
    {
      "cell_type": "code",
      "source": [
        "y_pred = dt.predict(X_df)\n",
        "df_result = pd.DataFrame({\n",
        "    'id': range(1, len(y_pred) + 1),\n",
        "    'result': y_pred\n",
        "})\n",
        "\n",
        "df_result['result'].value_counts()"
      ],
      "metadata": {
        "colab": {
          "base_uri": "https://localhost:8080/"
        },
        "id": "MF_I66NZH-J6",
        "outputId": "31b0d2da-3372-4c62-c498-aa4205758101"
      },
      "execution_count": 22,
      "outputs": [
        {
          "output_type": "execute_result",
          "data": {
            "text/plain": [
              "result\n",
              "0    143\n",
              "1     62\n",
              "Name: count, dtype: int64"
            ]
          },
          "metadata": {},
          "execution_count": 22
        }
      ]
    },
    {
      "cell_type": "code",
      "source": [
        "df_result"
      ],
      "metadata": {
        "colab": {
          "base_uri": "https://localhost:8080/",
          "height": 424
        },
        "id": "kck2JkS0BSSi",
        "outputId": "b21b5264-721c-48e8-d112-54faa2b29540"
      },
      "execution_count": 23,
      "outputs": [
        {
          "output_type": "execute_result",
          "data": {
            "text/plain": [
              "      id  result\n",
              "0      1       1\n",
              "1      2       0\n",
              "2      3       0\n",
              "3      4       0\n",
              "4      5       0\n",
              "..   ...     ...\n",
              "200  201       0\n",
              "201  202       0\n",
              "202  203       0\n",
              "203  204       0\n",
              "204  205       0\n",
              "\n",
              "[205 rows x 2 columns]"
            ],
            "text/html": [
              "\n",
              "  <div id=\"df-d7e8b05a-d5ec-4df9-aab1-c76a045e2ce8\" class=\"colab-df-container\">\n",
              "    <div>\n",
              "<style scoped>\n",
              "    .dataframe tbody tr th:only-of-type {\n",
              "        vertical-align: middle;\n",
              "    }\n",
              "\n",
              "    .dataframe tbody tr th {\n",
              "        vertical-align: top;\n",
              "    }\n",
              "\n",
              "    .dataframe thead th {\n",
              "        text-align: right;\n",
              "    }\n",
              "</style>\n",
              "<table border=\"1\" class=\"dataframe\">\n",
              "  <thead>\n",
              "    <tr style=\"text-align: right;\">\n",
              "      <th></th>\n",
              "      <th>id</th>\n",
              "      <th>result</th>\n",
              "    </tr>\n",
              "  </thead>\n",
              "  <tbody>\n",
              "    <tr>\n",
              "      <th>0</th>\n",
              "      <td>1</td>\n",
              "      <td>1</td>\n",
              "    </tr>\n",
              "    <tr>\n",
              "      <th>1</th>\n",
              "      <td>2</td>\n",
              "      <td>0</td>\n",
              "    </tr>\n",
              "    <tr>\n",
              "      <th>2</th>\n",
              "      <td>3</td>\n",
              "      <td>0</td>\n",
              "    </tr>\n",
              "    <tr>\n",
              "      <th>3</th>\n",
              "      <td>4</td>\n",
              "      <td>0</td>\n",
              "    </tr>\n",
              "    <tr>\n",
              "      <th>4</th>\n",
              "      <td>5</td>\n",
              "      <td>0</td>\n",
              "    </tr>\n",
              "    <tr>\n",
              "      <th>...</th>\n",
              "      <td>...</td>\n",
              "      <td>...</td>\n",
              "    </tr>\n",
              "    <tr>\n",
              "      <th>200</th>\n",
              "      <td>201</td>\n",
              "      <td>0</td>\n",
              "    </tr>\n",
              "    <tr>\n",
              "      <th>201</th>\n",
              "      <td>202</td>\n",
              "      <td>0</td>\n",
              "    </tr>\n",
              "    <tr>\n",
              "      <th>202</th>\n",
              "      <td>203</td>\n",
              "      <td>0</td>\n",
              "    </tr>\n",
              "    <tr>\n",
              "      <th>203</th>\n",
              "      <td>204</td>\n",
              "      <td>0</td>\n",
              "    </tr>\n",
              "    <tr>\n",
              "      <th>204</th>\n",
              "      <td>205</td>\n",
              "      <td>0</td>\n",
              "    </tr>\n",
              "  </tbody>\n",
              "</table>\n",
              "<p>205 rows × 2 columns</p>\n",
              "</div>\n",
              "    <div class=\"colab-df-buttons\">\n",
              "\n",
              "  <div class=\"colab-df-container\">\n",
              "    <button class=\"colab-df-convert\" onclick=\"convertToInteractive('df-d7e8b05a-d5ec-4df9-aab1-c76a045e2ce8')\"\n",
              "            title=\"Convert this dataframe to an interactive table.\"\n",
              "            style=\"display:none;\">\n",
              "\n",
              "  <svg xmlns=\"http://www.w3.org/2000/svg\" height=\"24px\" viewBox=\"0 -960 960 960\">\n",
              "    <path d=\"M120-120v-720h720v720H120Zm60-500h600v-160H180v160Zm220 220h160v-160H400v160Zm0 220h160v-160H400v160ZM180-400h160v-160H180v160Zm440 0h160v-160H620v160ZM180-180h160v-160H180v160Zm440 0h160v-160H620v160Z\"/>\n",
              "  </svg>\n",
              "    </button>\n",
              "\n",
              "  <style>\n",
              "    .colab-df-container {\n",
              "      display:flex;\n",
              "      gap: 12px;\n",
              "    }\n",
              "\n",
              "    .colab-df-convert {\n",
              "      background-color: #E8F0FE;\n",
              "      border: none;\n",
              "      border-radius: 50%;\n",
              "      cursor: pointer;\n",
              "      display: none;\n",
              "      fill: #1967D2;\n",
              "      height: 32px;\n",
              "      padding: 0 0 0 0;\n",
              "      width: 32px;\n",
              "    }\n",
              "\n",
              "    .colab-df-convert:hover {\n",
              "      background-color: #E2EBFA;\n",
              "      box-shadow: 0px 1px 2px rgba(60, 64, 67, 0.3), 0px 1px 3px 1px rgba(60, 64, 67, 0.15);\n",
              "      fill: #174EA6;\n",
              "    }\n",
              "\n",
              "    .colab-df-buttons div {\n",
              "      margin-bottom: 4px;\n",
              "    }\n",
              "\n",
              "    [theme=dark] .colab-df-convert {\n",
              "      background-color: #3B4455;\n",
              "      fill: #D2E3FC;\n",
              "    }\n",
              "\n",
              "    [theme=dark] .colab-df-convert:hover {\n",
              "      background-color: #434B5C;\n",
              "      box-shadow: 0px 1px 3px 1px rgba(0, 0, 0, 0.15);\n",
              "      filter: drop-shadow(0px 1px 2px rgba(0, 0, 0, 0.3));\n",
              "      fill: #FFFFFF;\n",
              "    }\n",
              "  </style>\n",
              "\n",
              "    <script>\n",
              "      const buttonEl =\n",
              "        document.querySelector('#df-d7e8b05a-d5ec-4df9-aab1-c76a045e2ce8 button.colab-df-convert');\n",
              "      buttonEl.style.display =\n",
              "        google.colab.kernel.accessAllowed ? 'block' : 'none';\n",
              "\n",
              "      async function convertToInteractive(key) {\n",
              "        const element = document.querySelector('#df-d7e8b05a-d5ec-4df9-aab1-c76a045e2ce8');\n",
              "        const dataTable =\n",
              "          await google.colab.kernel.invokeFunction('convertToInteractive',\n",
              "                                                    [key], {});\n",
              "        if (!dataTable) return;\n",
              "\n",
              "        const docLinkHtml = 'Like what you see? Visit the ' +\n",
              "          '<a target=\"_blank\" href=https://colab.research.google.com/notebooks/data_table.ipynb>data table notebook</a>'\n",
              "          + ' to learn more about interactive tables.';\n",
              "        element.innerHTML = '';\n",
              "        dataTable['output_type'] = 'display_data';\n",
              "        await google.colab.output.renderOutput(dataTable, element);\n",
              "        const docLink = document.createElement('div');\n",
              "        docLink.innerHTML = docLinkHtml;\n",
              "        element.appendChild(docLink);\n",
              "      }\n",
              "    </script>\n",
              "  </div>\n",
              "\n",
              "\n",
              "<div id=\"df-30e0546f-a788-47d9-a8c7-93f0e871a316\">\n",
              "  <button class=\"colab-df-quickchart\" onclick=\"quickchart('df-30e0546f-a788-47d9-a8c7-93f0e871a316')\"\n",
              "            title=\"Suggest charts\"\n",
              "            style=\"display:none;\">\n",
              "\n",
              "<svg xmlns=\"http://www.w3.org/2000/svg\" height=\"24px\"viewBox=\"0 0 24 24\"\n",
              "     width=\"24px\">\n",
              "    <g>\n",
              "        <path d=\"M19 3H5c-1.1 0-2 .9-2 2v14c0 1.1.9 2 2 2h14c1.1 0 2-.9 2-2V5c0-1.1-.9-2-2-2zM9 17H7v-7h2v7zm4 0h-2V7h2v10zm4 0h-2v-4h2v4z\"/>\n",
              "    </g>\n",
              "</svg>\n",
              "  </button>\n",
              "\n",
              "<style>\n",
              "  .colab-df-quickchart {\n",
              "      --bg-color: #E8F0FE;\n",
              "      --fill-color: #1967D2;\n",
              "      --hover-bg-color: #E2EBFA;\n",
              "      --hover-fill-color: #174EA6;\n",
              "      --disabled-fill-color: #AAA;\n",
              "      --disabled-bg-color: #DDD;\n",
              "  }\n",
              "\n",
              "  [theme=dark] .colab-df-quickchart {\n",
              "      --bg-color: #3B4455;\n",
              "      --fill-color: #D2E3FC;\n",
              "      --hover-bg-color: #434B5C;\n",
              "      --hover-fill-color: #FFFFFF;\n",
              "      --disabled-bg-color: #3B4455;\n",
              "      --disabled-fill-color: #666;\n",
              "  }\n",
              "\n",
              "  .colab-df-quickchart {\n",
              "    background-color: var(--bg-color);\n",
              "    border: none;\n",
              "    border-radius: 50%;\n",
              "    cursor: pointer;\n",
              "    display: none;\n",
              "    fill: var(--fill-color);\n",
              "    height: 32px;\n",
              "    padding: 0;\n",
              "    width: 32px;\n",
              "  }\n",
              "\n",
              "  .colab-df-quickchart:hover {\n",
              "    background-color: var(--hover-bg-color);\n",
              "    box-shadow: 0 1px 2px rgba(60, 64, 67, 0.3), 0 1px 3px 1px rgba(60, 64, 67, 0.15);\n",
              "    fill: var(--button-hover-fill-color);\n",
              "  }\n",
              "\n",
              "  .colab-df-quickchart-complete:disabled,\n",
              "  .colab-df-quickchart-complete:disabled:hover {\n",
              "    background-color: var(--disabled-bg-color);\n",
              "    fill: var(--disabled-fill-color);\n",
              "    box-shadow: none;\n",
              "  }\n",
              "\n",
              "  .colab-df-spinner {\n",
              "    border: 2px solid var(--fill-color);\n",
              "    border-color: transparent;\n",
              "    border-bottom-color: var(--fill-color);\n",
              "    animation:\n",
              "      spin 1s steps(1) infinite;\n",
              "  }\n",
              "\n",
              "  @keyframes spin {\n",
              "    0% {\n",
              "      border-color: transparent;\n",
              "      border-bottom-color: var(--fill-color);\n",
              "      border-left-color: var(--fill-color);\n",
              "    }\n",
              "    20% {\n",
              "      border-color: transparent;\n",
              "      border-left-color: var(--fill-color);\n",
              "      border-top-color: var(--fill-color);\n",
              "    }\n",
              "    30% {\n",
              "      border-color: transparent;\n",
              "      border-left-color: var(--fill-color);\n",
              "      border-top-color: var(--fill-color);\n",
              "      border-right-color: var(--fill-color);\n",
              "    }\n",
              "    40% {\n",
              "      border-color: transparent;\n",
              "      border-right-color: var(--fill-color);\n",
              "      border-top-color: var(--fill-color);\n",
              "    }\n",
              "    60% {\n",
              "      border-color: transparent;\n",
              "      border-right-color: var(--fill-color);\n",
              "    }\n",
              "    80% {\n",
              "      border-color: transparent;\n",
              "      border-right-color: var(--fill-color);\n",
              "      border-bottom-color: var(--fill-color);\n",
              "    }\n",
              "    90% {\n",
              "      border-color: transparent;\n",
              "      border-bottom-color: var(--fill-color);\n",
              "    }\n",
              "  }\n",
              "</style>\n",
              "\n",
              "  <script>\n",
              "    async function quickchart(key) {\n",
              "      const quickchartButtonEl =\n",
              "        document.querySelector('#' + key + ' button');\n",
              "      quickchartButtonEl.disabled = true;  // To prevent multiple clicks.\n",
              "      quickchartButtonEl.classList.add('colab-df-spinner');\n",
              "      try {\n",
              "        const charts = await google.colab.kernel.invokeFunction(\n",
              "            'suggestCharts', [key], {});\n",
              "      } catch (error) {\n",
              "        console.error('Error during call to suggestCharts:', error);\n",
              "      }\n",
              "      quickchartButtonEl.classList.remove('colab-df-spinner');\n",
              "      quickchartButtonEl.classList.add('colab-df-quickchart-complete');\n",
              "    }\n",
              "    (() => {\n",
              "      let quickchartButtonEl =\n",
              "        document.querySelector('#df-30e0546f-a788-47d9-a8c7-93f0e871a316 button');\n",
              "      quickchartButtonEl.style.display =\n",
              "        google.colab.kernel.accessAllowed ? 'block' : 'none';\n",
              "    })();\n",
              "  </script>\n",
              "</div>\n",
              "    </div>\n",
              "  </div>\n"
            ],
            "application/vnd.google.colaboratory.intrinsic+json": {
              "type": "dataframe",
              "variable_name": "df_result",
              "summary": "{\n  \"name\": \"df_result\",\n  \"rows\": 205,\n  \"fields\": [\n    {\n      \"column\": \"id\",\n      \"properties\": {\n        \"dtype\": \"number\",\n        \"std\": 59,\n        \"min\": 1,\n        \"max\": 205,\n        \"num_unique_values\": 205,\n        \"samples\": [\n          16,\n          10,\n          101\n        ],\n        \"semantic_type\": \"\",\n        \"description\": \"\"\n      }\n    },\n    {\n      \"column\": \"result\",\n      \"properties\": {\n        \"dtype\": \"number\",\n        \"std\": 0,\n        \"min\": 0,\n        \"max\": 1,\n        \"num_unique_values\": 2,\n        \"samples\": [\n          0,\n          1\n        ],\n        \"semantic_type\": \"\",\n        \"description\": \"\"\n      }\n    }\n  ]\n}"
            }
          },
          "metadata": {},
          "execution_count": 23
        }
      ]
    }
  ]
}